{
 "cells": [
  {
   "cell_type": "code",
   "execution_count": 25,
   "metadata": {
    "collapsed": true,
    "ExecuteTime": {
     "end_time": "2024-07-08T12:42:08.731168700Z",
     "start_time": "2024-07-08T12:42:08.655335600Z"
    }
   },
   "outputs": [],
   "source": [
    "from pyspark.sql import SparkSession\n",
    "from pyspark.sql.functions import *\n",
    "from pyspark.sql.types import *"
   ]
  },
  {
   "cell_type": "code",
   "execution_count": 26,
   "outputs": [],
   "source": [
    "spark = SparkSession.builder\\\n",
    "    .appName(\"Marketing Campaign Data Analysis Using PySpark\")\\\n",
    "    .enableHiveSupport()\\\n",
    "    .getOrCreate()"
   ],
   "metadata": {
    "collapsed": false,
    "ExecuteTime": {
     "end_time": "2024-07-08T12:42:08.856167300Z",
     "start_time": "2024-07-08T12:42:08.660150100Z"
    }
   }
  },
  {
   "cell_type": "code",
   "execution_count": 27,
   "outputs": [
    {
     "name": "stdout",
     "output_type": "stream",
     "text": [
      "root\n",
      " |-- campaign_country: string (nullable = true)\n",
      " |-- campaign_id: string (nullable = true)\n",
      " |-- campaign_name: string (nullable = true)\n",
      " |-- device_type: string (nullable = true)\n",
      " |-- event_time: string (nullable = true)\n",
      " |-- event_type: string (nullable = true)\n",
      " |-- os_type: string (nullable = true)\n",
      " |-- place_id: string (nullable = true)\n",
      " |-- user_id: string (nullable = true)\n",
      "\n",
      "root\n",
      " |-- campaign_country: string (nullable = true)\n",
      " |-- campaign_id: string (nullable = true)\n",
      " |-- campaign_name: string (nullable = true)\n",
      " |-- device_type: string (nullable = true)\n",
      " |-- event_time: timestamp (nullable = true)\n",
      " |-- event_type: string (nullable = true)\n",
      " |-- os_type: string (nullable = true)\n",
      " |-- place_id: string (nullable = true)\n",
      " |-- user_id: string (nullable = true)\n",
      "\n",
      "+----------------+-----------+--------------------+-----------+-------------------+----------+-------+---------+-------------------+\n",
      "|campaign_country|campaign_id|       campaign_name|device_type|         event_time|event_type|os_type| place_id|            user_id|\n",
      "+----------------+-----------+--------------------+-----------+-------------------+----------+-------+---------+-------------------+\n",
      "|             USA|    ABCDFAE|Food category tar...|      apple|2018-10-12 16:10:05|impression|    ios|CASSBB-11|1264374214654454321|\n",
      "|             USA|    ABCDFAE|Food category tar...|   MOTOROLA|2018-10-12 16:09:04|impression|android|CADGBD-13|1674374214654454321|\n",
      "|             USA|    ABCDFAE|Food category tar...|    SAMSUNG|2018-10-12 16:10:10|  video ad|android|BADGBA-12|   5747421465445443|\n",
      "|             USA|    ABCDFAE|Food category tar...|    SAMSUNG|2018-10-12 16:10:12|     click|android|CASSBB-11|1864374214654454132|\n",
      "+----------------+-----------+--------------------+-----------+-------------------+----------+-------+---------+-------------------+\n",
      "\n"
     ]
    }
   ],
   "source": [
    "ad_campaigns = spark.read.format(\"json\").option(\"multiline\",\"true\").option(\"header\",\"true\").load(\"ad_campaigns_data.json\")\n",
    "ad_campaigns.printSchema()\n",
    "\n",
    "# convert event_time from string to timestamp\n",
    "ad_campaigns = ad_campaigns.withColumn(\"event_time\", to_timestamp(ad_campaigns[\"event_time\"]))\n",
    "\n",
    "# convert user_id from string to int\n",
    "# ad_campaigns = ad_campaigns.withColumn(\"user_id\", ad_campaigns[\"user_id\"].cast(IntegerType()))\n",
    "\n",
    "ad_campaigns.printSchema()\n",
    "ad_campaigns.show(5)"
   ],
   "metadata": {
    "collapsed": false,
    "ExecuteTime": {
     "end_time": "2024-07-08T12:42:09.172159800Z",
     "start_time": "2024-07-08T12:42:08.684267700Z"
    }
   }
  },
  {
   "cell_type": "code",
   "execution_count": 28,
   "outputs": [
    {
     "name": "stdout",
     "output_type": "stream",
     "text": [
      "root\n",
      " |-- age_group: string (nullable = true)\n",
      " |-- category: array (nullable = true)\n",
      " |    |-- element: string (containsNull = true)\n",
      " |-- country: string (nullable = true)\n",
      " |-- gender: string (nullable = true)\n",
      " |-- user_id: string (nullable = true)\n",
      "\n"
     ]
    }
   ],
   "source": [
    "user_profile = spark.read.format(\"json\").option(\"multiline\",\"true\").option(\"header\", \"true\").load(\"user_profile_data.json\")\n",
    "user_profile.schema\n",
    "\n",
    "# convert user_id from string to int\n",
    "# user_profile = user_profile.withColumn(\"user_id\", user_profile[\"user_id\"].cast(IntegerType()))\n",
    "\n",
    "user_profile.printSchema()"
   ],
   "metadata": {
    "collapsed": false,
    "ExecuteTime": {
     "end_time": "2024-07-08T12:42:09.344529800Z",
     "start_time": "2024-07-08T12:42:09.187805600Z"
    }
   }
  },
  {
   "cell_type": "code",
   "execution_count": 29,
   "outputs": [
    {
     "data": {
      "text/plain": "StructType([StructField('place_ids', ArrayType(StringType(), True), True), StructField('store_name', StringType(), True)])"
     },
     "execution_count": 29,
     "metadata": {},
     "output_type": "execute_result"
    }
   ],
   "source": [
    "store_data = spark.read.format(\"json\").option(\"multiline\",\"true\").load(\"store_data.json\")\n",
    "store_data.schema"
   ],
   "metadata": {
    "collapsed": false,
    "ExecuteTime": {
     "end_time": "2024-07-08T12:42:09.591464900Z",
     "start_time": "2024-07-08T12:42:09.360158500Z"
    }
   }
  },
  {
   "cell_type": "markdown",
   "source": [
    "# Q1. Analyse data for each campaign_id, date, hour, os_type & value to get all the events with counts"
   ],
   "metadata": {
    "collapsed": false
   }
  },
  {
   "cell_type": "code",
   "execution_count": 30,
   "outputs": [
    {
     "name": "stdout",
     "output_type": "stream",
     "text": [
      "+----------------+-----------+--------------------+-----------+-------------------+----------+-------+---------+-------------------+----------+----+\n",
      "|campaign_country|campaign_id|       campaign_name|device_type|         event_time|event_type|os_type| place_id|            user_id|      date|hour|\n",
      "+----------------+-----------+--------------------+-----------+-------------------+----------+-------+---------+-------------------+----------+----+\n",
      "|             USA|    ABCDFAE|Food category tar...|      apple|2018-10-12 16:10:05|impression|    ios|CASSBB-11|1264374214654454321|2018-10-12|  16|\n",
      "|             USA|    ABCDFAE|Food category tar...|   MOTOROLA|2018-10-12 16:09:04|impression|android|CADGBD-13|1674374214654454321|2018-10-12|  16|\n",
      "|             USA|    ABCDFAE|Food category tar...|    SAMSUNG|2018-10-12 16:10:10|  video ad|android|BADGBA-12|   5747421465445443|2018-10-12|  16|\n",
      "|             USA|    ABCDFAE|Food category tar...|    SAMSUNG|2018-10-12 16:10:12|     click|android|CASSBB-11|1864374214654454132|2018-10-12|  16|\n",
      "+----------------+-----------+--------------------+-----------+-------------------+----------+-------+---------+-------------------+----------+----+\n",
      "\n"
     ]
    }
   ],
   "source": [
    "# extract hour and date from ad_campaigns\n",
    "ad_campaigns = ad_campaigns.withColumn(\"date\", to_date(ad_campaigns[\"event_time\"]))\n",
    "ad_campaigns = ad_campaigns.withColumn(\"hour\", hour(ad_campaigns[\"event_time\"]))\n",
    "ad_campaigns.show(5)"
   ],
   "metadata": {
    "collapsed": false,
    "ExecuteTime": {
     "end_time": "2024-07-08T12:42:10.201230200Z",
     "start_time": "2024-07-08T12:42:09.591464900Z"
    }
   }
  },
  {
   "cell_type": "code",
   "execution_count": 31,
   "outputs": [],
   "source": [
    "# ad_campaigns.groupBy(\"campaign_id\",\"date\",\"hour\",\"os_type\").count().show()\n",
    "Q1_result = (ad_campaigns.groupBy(\"campaign_id\",\"date\",\"hour\",\"os_type\",\"event_type\")\\\n",
    "                .agg(count(\"event_type\").alias(\"event_count\"))\n",
    "                .groupBy(\"campaign_id\",\"date\",\"hour\",\"os_type\")\n",
    "                .pivot(\"event_type\")\n",
    "                .agg(first(\"event_count\"))\n",
    "                .fillna(0)\n",
    "                .select\n",
    "                (\"campaign_id\", \"date\",\"hour\",\"os_type\",\n",
    "                 struct(col(\"impression\"),col(\"click\"),col(\"video ad\"),).alias(\"event\"),))"
   ],
   "metadata": {
    "collapsed": false,
    "ExecuteTime": {
     "end_time": "2024-07-08T12:42:11.900102600Z",
     "start_time": "2024-07-08T12:42:10.216879100Z"
    }
   }
  },
  {
   "cell_type": "code",
   "execution_count": 32,
   "outputs": [
    {
     "name": "stdout",
     "output_type": "stream",
     "text": [
      "+-----------+----------+----+-------+---------+\n",
      "|campaign_id|      date|hour|os_type|    event|\n",
      "+-----------+----------+----+-------+---------+\n",
      "|    ABCDFAE|2018-10-12|  16|android|{1, 1, 1}|\n",
      "|    ABCDFAE|2018-10-12|  16|    ios|{1, 0, 0}|\n",
      "+-----------+----------+----+-------+---------+\n",
      "\n"
     ]
    }
   ],
   "source": [
    "Q1_result.show()"
   ],
   "metadata": {
    "collapsed": false,
    "ExecuteTime": {
     "end_time": "2024-07-08T12:42:13.751807600Z",
     "start_time": "2024-07-08T12:42:11.915744600Z"
    }
   }
  },
  {
   "cell_type": "markdown",
   "source": [
    "# Q2. Analyse data for each campaign_id, date, hour, store_name & value to get all the events with counts"
   ],
   "metadata": {
    "collapsed": false
   }
  },
  {
   "cell_type": "code",
   "execution_count": 33,
   "outputs": [
    {
     "name": "stdout",
     "output_type": "stream",
     "text": [
      "+-----------+----------+----+-------------+---------+\n",
      "|campaign_id|      date|hour|   store_name|    event|\n",
      "+-----------+----------+----+-------------+---------+\n",
      "|    ABCDFAE|2018-10-12|  16|shoppers stop|{0, 0, 1}|\n",
      "|    ABCDFAE|2018-10-12|  16|     McDonald|{2, 1, 0}|\n",
      "|    ABCDFAE|2018-10-12|  16|   BurgerKing|{1, 1, 0}|\n",
      "+-----------+----------+----+-------------+---------+\n",
      "\n"
     ]
    }
   ],
   "source": [
    "Q2_result  = (ad_campaigns.join(store_data, array_contains(store_data.place_ids,  ad_campaigns.place_id), \"inner\").drop(ad_campaigns.place_id).groupBy(\"campaign_id\",\"date\",\"hour\",\"store_name\", \"event_type\")\\\n",
    "    .agg(count(\"event_type\").alias(\"event_count\"))\\\n",
    "    .groupBy(\"campaign_id\",\"date\",\"hour\",\"store_name\")\\\n",
    "    .pivot(\"event_type\")\\\n",
    "    .agg(first(\"event_count\"))\\\n",
    "    .fillna(0)\\\n",
    "    .select\n",
    "    (\"campaign_id\", \"date\",\"hour\",\"store_name\",\n",
    "    struct(col(\"impression\"),col(\"click\"),col(\"video ad\"),).alias(\"event\"),))\n",
    "Q2_result.show()"
   ],
   "metadata": {
    "collapsed": false,
    "ExecuteTime": {
     "end_time": "2024-07-08T12:42:17.462128500Z",
     "start_time": "2024-07-08T12:42:13.767454100Z"
    }
   }
  },
  {
   "cell_type": "markdown",
   "source": [
    "# Q3. Analyse data for each campaign_id, date, hour, gender_type & value to get all the events with counts"
   ],
   "metadata": {
    "collapsed": false
   }
  },
  {
   "cell_type": "code",
   "execution_count": 36,
   "outputs": [
    {
     "name": "stdout",
     "output_type": "stream",
     "text": [
      "+----------------+-----------+--------------------+-----------+-------------------+----------+-------+---------+----------+----+---------+--------------------+-------+------+\n",
      "|campaign_country|campaign_id|       campaign_name|device_type|         event_time|event_type|os_type| place_id|      date|hour|age_group|            category|country|gender|\n",
      "+----------------+-----------+--------------------+-----------+-------------------+----------+-------+---------+----------+----+---------+--------------------+-------+------+\n",
      "|             USA|    ABCDFAE|Food category tar...|      apple|2018-10-12 16:10:05|impression|    ios|CASSBB-11|2018-10-12|  16|    18-25|  [shopper, student]|    USA|  male|\n",
      "|             USA|    ABCDFAE|Food category tar...|   MOTOROLA|2018-10-12 16:09:04|impression|android|CADGBD-13|2018-10-12|  16|    25-50|            [parent]|    USA|female|\n",
      "|             USA|    ABCDFAE|Food category tar...|    SAMSUNG|2018-10-12 16:10:10|  video ad|android|BADGBA-12|2018-10-12|  16|    25-50|[shopper, parent,...|    USA|  male|\n",
      "|             USA|    ABCDFAE|Food category tar...|    SAMSUNG|2018-10-12 16:10:12|     click|android|CASSBB-11|2018-10-12|  16|      50+|      [professional]|    USA|  male|\n",
      "+----------------+-----------+--------------------+-----------+-------------------+----------+-------+---------+----------+----+---------+--------------------+-------+------+\n",
      "\n"
     ]
    }
   ],
   "source": [
    "df = ad_campaigns.join(user_profile, \"user_id\", \"inner\").drop(ad_campaigns.user_id)"
   ],
   "metadata": {
    "collapsed": false,
    "ExecuteTime": {
     "end_time": "2024-07-08T12:42:38.077192600Z",
     "start_time": "2024-07-08T12:42:37.799803500Z"
    }
   }
  },
  {
   "cell_type": "code",
   "execution_count": 35,
   "outputs": [
    {
     "name": "stdout",
     "output_type": "stream",
     "text": [
      "+-----------+----------+----+------+---------+\n",
      "|campaign_id|      date|hour|gender|    event|\n",
      "+-----------+----------+----+------+---------+\n",
      "|    ABCDFAE|2018-10-12|  16|  male|{1, 1, 1}|\n",
      "|    ABCDFAE|2018-10-12|  16|female|{1, 0, 0}|\n",
      "+-----------+----------+----+------+---------+\n",
      "\n"
     ]
    }
   ],
   "source": [
    "Q3_result  = (ad_campaigns.join(user_profile, \"user_id\", \"inner\").drop(ad_campaigns.user_id).groupBy(\"campaign_id\",\"date\",\"hour\",\"gender\", \"event_type\")\\\n",
    "    .agg(count(\"event_type\").alias(\"event_count\"))\\\n",
    "    .groupBy(\"campaign_id\",\"date\",\"hour\",\"gender\")\\\n",
    "    .pivot(\"event_type\")\\\n",
    "    .agg(first(\"event_count\"))\\\n",
    "    .fillna(0)\\\n",
    "    .select\n",
    "    (\"campaign_id\", \"date\",\"hour\",\"gender\",\n",
    "    struct(col(\"impression\"),col(\"click\"),col(\"video ad\"),).alias(\"event\"),))\n",
    "Q3_result.show()"
   ],
   "metadata": {
    "collapsed": false,
    "ExecuteTime": {
     "end_time": "2024-07-08T12:42:20.378768500Z",
     "start_time": "2024-07-08T12:42:18.497057800Z"
    }
   }
  },
  {
   "cell_type": "markdown",
   "source": [
    "# Write to HDFS"
   ],
   "metadata": {
    "collapsed": false
   }
  },
  {
   "cell_type": "markdown",
   "source": [
    "# Create HIVE table on top of it"
   ],
   "metadata": {
    "collapsed": false
   }
  },
  {
   "cell_type": "code",
   "execution_count": null,
   "outputs": [],
   "source": [],
   "metadata": {
    "collapsed": false
   }
  }
 ],
 "metadata": {
  "kernelspec": {
   "display_name": "Python 3",
   "language": "python",
   "name": "python3"
  },
  "language_info": {
   "codemirror_mode": {
    "name": "ipython",
    "version": 2
   },
   "file_extension": ".py",
   "mimetype": "text/x-python",
   "name": "python",
   "nbconvert_exporter": "python",
   "pygments_lexer": "ipython2",
   "version": "2.7.6"
  }
 },
 "nbformat": 4,
 "nbformat_minor": 0
}
