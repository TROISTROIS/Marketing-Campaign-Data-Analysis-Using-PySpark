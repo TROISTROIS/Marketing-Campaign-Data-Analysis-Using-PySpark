{
 "cells": [
  {
   "cell_type": "code",
   "execution_count": 1,
   "id": "109141a5",
   "metadata": {},
   "outputs": [
    {
     "name": "stdout",
     "output_type": "stream",
     "text": [
      "Starting Spark application\n"
     ]
    },
    {
     "data": {
      "text/html": [
       "<table>\n",
       "<tr><th>ID</th><th>YARN Application ID</th><th>Kind</th><th>State</th><th>Spark UI</th><th>Driver log</th><th>User</th><th>Current session?</th></tr><tr><td>3</td><td>application_1721028815278_0004</td><td>pyspark</td><td>idle</td><td><a target=\"_blank\" href=\"http://ip-172-31-88-218.ec2.internal:20888/proxy/application_1721028815278_0004/\">Link</a></td><td><a target=\"_blank\" href=\"http://ip-172-31-89-226.ec2.internal:8042/node/containerlogs/container_1721028815278_0004_01_000001/livy\">Link</a></td><td>None</td><td>✔</td></tr></table>"
      ],
      "text/plain": [
       "<IPython.core.display.HTML object>"
      ]
     },
     "metadata": {},
     "output_type": "display_data"
    },
    {
     "data": {
      "application/vnd.jupyter.widget-view+json": {
       "model_id": "",
       "version_major": 2,
       "version_minor": 0
      },
      "text/plain": [
       "FloatProgress(value=0.0, bar_style='info', description='Progress:', layout=Layout(height='25px', width='50%'),…"
      ]
     },
     "metadata": {},
     "output_type": "display_data"
    },
    {
     "name": "stdout",
     "output_type": "stream",
     "text": [
      "SparkSession available as 'spark'.\n"
     ]
    },
    {
     "data": {
      "application/vnd.jupyter.widget-view+json": {
       "model_id": "",
       "version_major": 2,
       "version_minor": 0
      },
      "text/plain": [
       "FloatProgress(value=0.0, bar_style='info', description='Progress:', layout=Layout(height='25px', width='50%'),…"
      ]
     },
     "metadata": {},
     "output_type": "display_data"
    }
   ],
   "source": [
    "from pyspark.sql import SparkSession\n",
    "from pyspark.sql.functions import *\n",
    "from pyspark.sql.types import *"
   ]
  },
  {
   "cell_type": "code",
   "execution_count": 2,
   "id": "0bd86338",
   "metadata": {},
   "outputs": [
    {
     "data": {
      "application/vnd.jupyter.widget-view+json": {
       "model_id": "",
       "version_major": 2,
       "version_minor": 0
      },
      "text/plain": [
       "FloatProgress(value=0.0, bar_style='info', description='Progress:', layout=Layout(height='25px', width='50%'),…"
      ]
     },
     "metadata": {},
     "output_type": "display_data"
    }
   ],
   "source": [
    "spark = SparkSession.builder\\\n",
    "    .appName(\"Marketing Campaign Data Analysis Using PySpark\")\\\n",
    "    .enableHiveSupport()\\\n",
    "    .getOrCreate()"
   ]
  },
  {
   "cell_type": "code",
   "execution_count": 3,
   "id": "f6c53525",
   "metadata": {},
   "outputs": [
    {
     "data": {
      "application/vnd.jupyter.widget-view+json": {
       "model_id": "",
       "version_major": 2,
       "version_minor": 0
      },
      "text/plain": [
       "FloatProgress(value=0.0, bar_style='info', description='Progress:', layout=Layout(height='25px', width='50%'),…"
      ]
     },
     "metadata": {},
     "output_type": "display_data"
    }
   ],
   "source": [
    "# hdfs file path\n",
    "hdfs_path1 = '/tmp/datasets/ad_campaigns_data.json'\n",
    "hdfs_path2 = '/tmp/datasets/user_profile_data.json'\n",
    "hdfs_path3 = '/tmp/datasets/store_data.json'"
   ]
  },
  {
   "cell_type": "code",
   "execution_count": 4,
   "id": "635bd865",
   "metadata": {},
   "outputs": [
    {
     "data": {
      "application/vnd.jupyter.widget-view+json": {
       "model_id": "",
       "version_major": 2,
       "version_minor": 0
      },
      "text/plain": [
       "FloatProgress(value=0.0, bar_style='info', description='Progress:', layout=Layout(height='25px', width='50%'),…"
      ]
     },
     "metadata": {},
     "output_type": "display_data"
    },
    {
     "name": "stdout",
     "output_type": "stream",
     "text": [
      "root\n",
      " |-- campaign_country: string (nullable = true)\n",
      " |-- campaign_id: string (nullable = true)\n",
      " |-- campaign_name: string (nullable = true)\n",
      " |-- device_type: string (nullable = true)\n",
      " |-- event_time: string (nullable = true)\n",
      " |-- event_type: string (nullable = true)\n",
      " |-- os_type: string (nullable = true)\n",
      " |-- place_id: string (nullable = true)\n",
      " |-- user_id: string (nullable = true)\n",
      "\n",
      "root\n",
      " |-- campaign_country: string (nullable = true)\n",
      " |-- campaign_id: string (nullable = true)\n",
      " |-- campaign_name: string (nullable = true)\n",
      " |-- device_type: string (nullable = true)\n",
      " |-- event_time: timestamp (nullable = true)\n",
      " |-- event_type: string (nullable = true)\n",
      " |-- os_type: string (nullable = true)\n",
      " |-- place_id: string (nullable = true)\n",
      " |-- user_id: string (nullable = true)\n",
      "\n",
      "+----------------+-----------+--------------------+-----------+-------------------+----------+-------+---------+-------------------+\n",
      "|campaign_country|campaign_id|       campaign_name|device_type|         event_time|event_type|os_type| place_id|            user_id|\n",
      "+----------------+-----------+--------------------+-----------+-------------------+----------+-------+---------+-------------------+\n",
      "|             USA|    ABCDFAE|Food category tar...|      apple|2018-10-12 13:10:05|impression|    ios|CASSBB-11|1264374214654454321|\n",
      "|             USA|    ABCDFAE|Food category tar...|   MOTOROLA|2018-10-12 13:09:04|impression|android|CADGBD-13|1674374214654454321|\n",
      "|             USA|    ABCDFAE|Food category tar...|    SAMSUNG|2018-10-12 13:10:10|  video ad|android|BADGBA-12|   5747421465445443|\n",
      "|             USA|    ABCDFAE|Food category tar...|    SAMSUNG|2018-10-12 13:10:12|     click|android|CASSBB-11|1864374214654454132|\n",
      "+----------------+-----------+--------------------+-----------+-------------------+----------+-------+---------+-------------------+"
     ]
    }
   ],
   "source": [
    "ad_campaigns = spark.read.format(\"json\").option(\"multiline\",\"true\").option(\"header\",\"true\").load(hdfs_path1)\n",
    "ad_campaigns.printSchema()\n",
    "\n",
    "# convert event_time from string to timestamp\n",
    "ad_campaigns = ad_campaigns.withColumn(\"event_time\", to_timestamp(ad_campaigns[\"event_time\"]))\n",
    "\n",
    "\n",
    "ad_campaigns.printSchema()\n",
    "ad_campaigns.show(5)"
   ]
  },
  {
   "cell_type": "code",
   "execution_count": 5,
   "id": "eddf387a",
   "metadata": {},
   "outputs": [
    {
     "data": {
      "application/vnd.jupyter.widget-view+json": {
       "model_id": "",
       "version_major": 2,
       "version_minor": 0
      },
      "text/plain": [
       "FloatProgress(value=0.0, bar_style='info', description='Progress:', layout=Layout(height='25px', width='50%'),…"
      ]
     },
     "metadata": {},
     "output_type": "display_data"
    },
    {
     "name": "stdout",
     "output_type": "stream",
     "text": [
      "root\n",
      " |-- age_group: string (nullable = true)\n",
      " |-- category: array (nullable = true)\n",
      " |    |-- element: string (containsNull = true)\n",
      " |-- country: string (nullable = true)\n",
      " |-- gender: string (nullable = true)\n",
      " |-- user_id: string (nullable = true)"
     ]
    }
   ],
   "source": [
    "user_profile = spark.read.format(\"json\").option(\"multiline\",\"true\").option(\"header\", \"true\").load(hdfs_path2)\n",
    "user_profile.schema\n",
    "\n",
    "user_profile.printSchema()"
   ]
  },
  {
   "cell_type": "code",
   "execution_count": 6,
   "id": "c78404a9",
   "metadata": {},
   "outputs": [
    {
     "data": {
      "application/vnd.jupyter.widget-view+json": {
       "model_id": "",
       "version_major": 2,
       "version_minor": 0
      },
      "text/plain": [
       "FloatProgress(value=0.0, bar_style='info', description='Progress:', layout=Layout(height='25px', width='50%'),…"
      ]
     },
     "metadata": {},
     "output_type": "display_data"
    },
    {
     "name": "stdout",
     "output_type": "stream",
     "text": [
      "StructType([StructField('place_ids', ArrayType(StringType(), True), True), StructField('store_name', StringType(), True)])"
     ]
    }
   ],
   "source": [
    "store_data = spark.read.format(\"json\").option(\"multiline\",\"true\").load(hdfs_path3)\n",
    "store_data.schema"
   ]
  },
  {
   "cell_type": "markdown",
   "id": "c70720eb",
   "metadata": {},
   "source": [
    "# Q1. Analyse data for each campaign_id, date, hour, os_type & value to get all the events with counts"
   ]
  },
  {
   "cell_type": "code",
   "execution_count": 7,
   "id": "5b4c8014",
   "metadata": {},
   "outputs": [
    {
     "data": {
      "application/vnd.jupyter.widget-view+json": {
       "model_id": "",
       "version_major": 2,
       "version_minor": 0
      },
      "text/plain": [
       "FloatProgress(value=0.0, bar_style='info', description='Progress:', layout=Layout(height='25px', width='50%'),…"
      ]
     },
     "metadata": {},
     "output_type": "display_data"
    },
    {
     "name": "stdout",
     "output_type": "stream",
     "text": [
      "+----------------+-----------+--------------------+-----------+-------------------+----------+-------+---------+-------------------+----------+----+\n",
      "|campaign_country|campaign_id|       campaign_name|device_type|         event_time|event_type|os_type| place_id|            user_id|      date|hour|\n",
      "+----------------+-----------+--------------------+-----------+-------------------+----------+-------+---------+-------------------+----------+----+\n",
      "|             USA|    ABCDFAE|Food category tar...|      apple|2018-10-12 13:10:05|impression|    ios|CASSBB-11|1264374214654454321|2018-10-12|  13|\n",
      "|             USA|    ABCDFAE|Food category tar...|   MOTOROLA|2018-10-12 13:09:04|impression|android|CADGBD-13|1674374214654454321|2018-10-12|  13|\n",
      "|             USA|    ABCDFAE|Food category tar...|    SAMSUNG|2018-10-12 13:10:10|  video ad|android|BADGBA-12|   5747421465445443|2018-10-12|  13|\n",
      "|             USA|    ABCDFAE|Food category tar...|    SAMSUNG|2018-10-12 13:10:12|     click|android|CASSBB-11|1864374214654454132|2018-10-12|  13|\n",
      "+----------------+-----------+--------------------+-----------+-------------------+----------+-------+---------+-------------------+----------+----+"
     ]
    }
   ],
   "source": [
    "\n",
    "# extract hour and date from ad_campaigns\n",
    "ad_campaigns = ad_campaigns.withColumn(\"date\", to_date(ad_campaigns[\"event_time\"]))\n",
    "ad_campaigns = ad_campaigns.withColumn(\"hour\", hour(ad_campaigns[\"event_time\"]))\n",
    "ad_campaigns.show(5)"
   ]
  },
  {
   "cell_type": "code",
   "execution_count": 8,
   "id": "e50fce7a",
   "metadata": {},
   "outputs": [
    {
     "data": {
      "application/vnd.jupyter.widget-view+json": {
       "model_id": "",
       "version_major": 2,
       "version_minor": 0
      },
      "text/plain": [
       "FloatProgress(value=0.0, bar_style='info', description='Progress:', layout=Layout(height='25px', width='50%'),…"
      ]
     },
     "metadata": {},
     "output_type": "display_data"
    }
   ],
   "source": [
    "# ad_campaigns.groupBy(\"campaign_id\",\"date\",\"hour\",\"os_type\").count().show()\n",
    "Q1_result = (ad_campaigns.groupBy(\"campaign_id\",\"date\",\"hour\",\"os_type\",\"event_type\")\\\n",
    "                .agg(count(\"event_type\").alias(\"event_count\"))\n",
    "                .groupBy(\"campaign_id\",\"date\",\"hour\",\"os_type\")\n",
    "                .pivot(\"event_type\")\n",
    "                .agg(first(\"event_count\"))\n",
    "                .fillna(0)\n",
    "                .select\n",
    "                (\"campaign_id\", \"date\",\"hour\",\"os_type\",\n",
    "                 struct(col(\"impression\"),col(\"click\"),col(\"video ad\"),).alias(\"event\"),))"
   ]
  },
  {
   "cell_type": "code",
   "execution_count": 9,
   "id": "b752d4ea",
   "metadata": {},
   "outputs": [
    {
     "data": {
      "application/vnd.jupyter.widget-view+json": {
       "model_id": "",
       "version_major": 2,
       "version_minor": 0
      },
      "text/plain": [
       "FloatProgress(value=0.0, bar_style='info', description='Progress:', layout=Layout(height='25px', width='50%'),…"
      ]
     },
     "metadata": {},
     "output_type": "display_data"
    },
    {
     "name": "stdout",
     "output_type": "stream",
     "text": [
      "+-----------+----------+----+-------+---------+\n",
      "|campaign_id|      date|hour|os_type|    event|\n",
      "+-----------+----------+----+-------+---------+\n",
      "|    ABCDFAE|2018-10-12|  13|android|{1, 1, 1}|\n",
      "|    ABCDFAE|2018-10-12|  13|    ios|{1, 0, 0}|\n",
      "+-----------+----------+----+-------+---------+"
     ]
    }
   ],
   "source": [
    "Q1_result.show()"
   ]
  },
  {
   "cell_type": "code",
   "execution_count": 10,
   "id": "28050ce2",
   "metadata": {},
   "outputs": [
    {
     "data": {
      "application/vnd.jupyter.widget-view+json": {
       "model_id": "",
       "version_major": 2,
       "version_minor": 0
      },
      "text/plain": [
       "FloatProgress(value=0.0, bar_style='info', description='Progress:', layout=Layout(height='25px', width='50%'),…"
      ]
     },
     "metadata": {},
     "output_type": "display_data"
    }
   ],
   "source": [
    "hdfs_output = '/tmp/datasets/output/'\n",
    "Q1_result.write.json(hdfs_output + \"Q1_result\", mode=\"overwrite\")"
   ]
  },
  {
   "cell_type": "markdown",
   "id": "3bd333c6",
   "metadata": {},
   "source": [
    "# Q2.Analyse data for each campaign_id, date, hour, store_name & value to get all the events with counts"
   ]
  },
  {
   "cell_type": "code",
   "execution_count": 11,
   "id": "f6661f62",
   "metadata": {},
   "outputs": [
    {
     "data": {
      "application/vnd.jupyter.widget-view+json": {
       "model_id": "",
       "version_major": 2,
       "version_minor": 0
      },
      "text/plain": [
       "FloatProgress(value=0.0, bar_style='info', description='Progress:', layout=Layout(height='25px', width='50%'),…"
      ]
     },
     "metadata": {},
     "output_type": "display_data"
    },
    {
     "name": "stdout",
     "output_type": "stream",
     "text": [
      "+-----------+----------+----+-------------+---------+\n",
      "|campaign_id|      date|hour|   store_name|    event|\n",
      "+-----------+----------+----+-------------+---------+\n",
      "|    ABCDFAE|2018-10-12|  13|     McDonald|{2, 1, 0}|\n",
      "|    ABCDFAE|2018-10-12|  13|shoppers stop|{0, 0, 1}|\n",
      "|    ABCDFAE|2018-10-12|  13|   BurgerKing|{1, 1, 0}|\n",
      "+-----------+----------+----+-------------+---------+"
     ]
    }
   ],
   "source": [
    "Q2_result  = (ad_campaigns.join(store_data, array_contains(store_data.place_ids,  ad_campaigns.place_id), \"inner\").drop(ad_campaigns.place_id).groupBy(\"campaign_id\",\"date\",\"hour\",\"store_name\", \"event_type\")\\\n",
    "    .agg(count(\"event_type\").alias(\"event_count\"))\\\n",
    "    .groupBy(\"campaign_id\",\"date\",\"hour\",\"store_name\")\\\n",
    "    .pivot(\"event_type\")\\\n",
    "    .agg(first(\"event_count\"))\\\n",
    "    .fillna(0)\\\n",
    "    .select\n",
    "    (\"campaign_id\", \"date\",\"hour\",\"store_name\",\n",
    "    struct(col(\"impression\"),col(\"click\"),col(\"video ad\"),).alias(\"event\"),))\n",
    "Q2_result.show()"
   ]
  },
  {
   "cell_type": "code",
   "execution_count": 12,
   "id": "166b973d",
   "metadata": {},
   "outputs": [
    {
     "data": {
      "application/vnd.jupyter.widget-view+json": {
       "model_id": "",
       "version_major": 2,
       "version_minor": 0
      },
      "text/plain": [
       "FloatProgress(value=0.0, bar_style='info', description='Progress:', layout=Layout(height='25px', width='50%'),…"
      ]
     },
     "metadata": {},
     "output_type": "display_data"
    }
   ],
   "source": [
    "hdfs_output = '/tmp/datasets/output/'\n",
    "Q2_result.write.json(hdfs_output + \"Q2_result\", mode=\"overwrite\")"
   ]
  },
  {
   "cell_type": "markdown",
   "id": "e1e0537d",
   "metadata": {},
   "source": [
    "# Q3. Analyse data for each campaign_id, date, hour, gender_type & value to get all the events with counts"
   ]
  },
  {
   "cell_type": "code",
   "execution_count": 13,
   "id": "e2037891",
   "metadata": {},
   "outputs": [
    {
     "data": {
      "application/vnd.jupyter.widget-view+json": {
       "model_id": "",
       "version_major": 2,
       "version_minor": 0
      },
      "text/plain": [
       "FloatProgress(value=0.0, bar_style='info', description='Progress:', layout=Layout(height='25px', width='50%'),…"
      ]
     },
     "metadata": {},
     "output_type": "display_data"
    }
   ],
   "source": [
    "df = ad_campaigns.join(user_profile, \"user_id\", \"inner\").drop(ad_campaigns.user_id)"
   ]
  },
  {
   "cell_type": "code",
   "execution_count": 14,
   "id": "1c8ef8f1",
   "metadata": {},
   "outputs": [
    {
     "data": {
      "application/vnd.jupyter.widget-view+json": {
       "model_id": "",
       "version_major": 2,
       "version_minor": 0
      },
      "text/plain": [
       "FloatProgress(value=0.0, bar_style='info', description='Progress:', layout=Layout(height='25px', width='50%'),…"
      ]
     },
     "metadata": {},
     "output_type": "display_data"
    },
    {
     "name": "stdout",
     "output_type": "stream",
     "text": [
      "+-----------+----------+----+------+---------+\n",
      "|campaign_id|      date|hour|gender|    event|\n",
      "+-----------+----------+----+------+---------+\n",
      "|    ABCDFAE|2018-10-12|  13|  male|{1, 1, 1}|\n",
      "|    ABCDFAE|2018-10-12|  13|female|{1, 0, 0}|\n",
      "+-----------+----------+----+------+---------+"
     ]
    }
   ],
   "source": [
    "Q3_result  = (ad_campaigns.join(user_profile, \"user_id\", \"inner\").drop(ad_campaigns.user_id).groupBy(\"campaign_id\",\"date\",\"hour\",\"gender\", \"event_type\")\\\n",
    "    .agg(count(\"event_type\").alias(\"event_count\"))\\\n",
    "    .groupBy(\"campaign_id\",\"date\",\"hour\",\"gender\")\\\n",
    "    .pivot(\"event_type\")\\\n",
    "    .agg(first(\"event_count\"))\\\n",
    "    .fillna(0)\\\n",
    "    .select\n",
    "    (\"campaign_id\", \"date\",\"hour\",\"gender\",\n",
    "    struct(col(\"impression\"),col(\"click\"),col(\"video ad\"),).alias(\"event\"),))\n",
    "Q3_result.show()"
   ]
  },
  {
   "cell_type": "code",
   "execution_count": 15,
   "id": "834eacd5",
   "metadata": {},
   "outputs": [
    {
     "data": {
      "application/vnd.jupyter.widget-view+json": {
       "model_id": "",
       "version_major": 2,
       "version_minor": 0
      },
      "text/plain": [
       "FloatProgress(value=0.0, bar_style='info', description='Progress:', layout=Layout(height='25px', width='50%'),…"
      ]
     },
     "metadata": {},
     "output_type": "display_data"
    }
   ],
   "source": [
    "hdfs_output = '/tmp/datasets/output/'\n",
    "Q3_result.write.json(hdfs_output + \"Q3_result\", mode=\"overwrite\")"
   ]
  },
  {
   "cell_type": "code",
   "execution_count": null,
   "id": "90be9d67",
   "metadata": {},
   "outputs": [],
   "source": []
  }
 ],
 "metadata": {
  "kernelspec": {
   "display_name": "PySpark",
   "language": "python",
   "name": "pysparkkernel"
  },
  "language_info": {
   "codemirror_mode": {
    "name": "python",
    "version": 3
   },
   "file_extension": ".py",
   "mimetype": "text/x-python",
   "name": "pyspark",
   "pygments_lexer": "python3"
  }
 },
 "nbformat": 4,
 "nbformat_minor": 5
}
